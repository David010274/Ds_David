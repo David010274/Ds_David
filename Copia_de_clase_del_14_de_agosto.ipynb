{
  "nbformat": 4,
  "nbformat_minor": 0,
  "metadata": {
    "colab": {
      "provenance": [],
      "authorship_tag": "ABX9TyMyoBWViIQi4Xsf2E5K6vXt",
      "include_colab_link": true
    },
    "kernelspec": {
      "name": "python3",
      "display_name": "Python 3"
    },
    "language_info": {
      "name": "python"
    }
  },
  "cells": [
    {
      "cell_type": "markdown",
      "metadata": {
        "id": "view-in-github",
        "colab_type": "text"
      },
      "source": [
        "<a href=\"https://colab.research.google.com/github/David010274/Ds_David/blob/main/Copia_de_clase_del_14_de_agosto.ipynb\" target=\"_parent\"><img src=\"https://colab.research.google.com/assets/colab-badge.svg\" alt=\"Open In Colab\"/></a>"
      ]
    },
    {
      "cell_type": "code",
      "execution_count": null,
      "metadata": {
        "id": "1_VY_JK8S1GM"
      },
      "outputs": [],
      "source": [
        "from keras.datasets import fashion_mnist\n",
        "import matplotlib.pyplot as plt\n",
        "from keras.utils import np_utils\n",
        "from keras.models import Sequential\n",
        "from keras.layers import Dense\n",
        "\n",
        "(x_train, y_train), (x_test, y_test) = fashion_mnist.load_data()\n",
        "num_train_images = x_train.shape[0]\n",
        "num_test_images = x_test.shape[0]\n",
        "fig, axs = plt.subplots(1,12, figsize=(17,6))\n",
        "for i in range(12):\n",
        "   axs[i].imshow(x_train[i+200], cmap = plt.get_cmap('gray'))\n",
        "   axs[i].axis('off')\n",
        "   "
      ]
    },
    {
      "cell_type": "code",
      "source": [
        "num_train_imagesimage_height = x_train.shape[1]\n",
        "image_width = x_train.shape[2]\n",
        "x_train_r = x_train.reshape(x_train.shape[0], image_height*image_width)\n",
        "x_test_r = x_test.reshape(x_test.shape[0], image_height*image_width)\n",
        "cont_train = x_train_r.shape[0]\n",
        "cont_test = x_test_r.shape[0]\n",
        "print(cont_train, cont_test)\n",
        "\n",
        "y_train_r=np_utils.to_categorical(y_train)\n",
        "y_test_r=np_utils.to_categorical(y_test)\n",
        "\n",
        "\n",
        "from keras.models import Sequential\n",
        "from keras.layers import Dense\n",
        "image_height = x_train.shape[1]\n",
        "image_width = x_train.shape[2]\n",
        "\n",
        "model = Sequential()\n",
        "model.add(Dense(50,input_dim=image_height*image_width,activation='relu'))\n",
        "model.add(Dense(20,activation='relu'))\n",
        "model.add(Dense(10,activation='softmax'))\n",
        "print(model.summary())\n",
        "EPOCHS = 200\n",
        "model.compile(loss='categorical_crossentropy', optimizer='adam',\n",
        "              metrics=['accuracy'])\n",
        "history = model.fit(x_train_r[:int(cont_train/100)], y_train_r[:int(cont_train/100)],\n",
        "                    validation_data=(x_test_r[:int(cont_test/100)], y_test_r[:int(cont_test/100)]),\n",
        "                    epochs=EPOCHS, batch_size=256, verbose=1)"
      ],
      "metadata": {
        "id": "2jwpkY1gTWK6"
      },
      "execution_count": null,
      "outputs": []
    },
    {
      "cell_type": "code",
      "source": [
        "NameError                                 Traceback (most recent call last)\n",
        " in \n",
        "      1 num_train_imagesimage_height = x_train.shape[1]\n",
        "      2 image_width = x_train.shape[2]\n",
        "----> 3 x_train_r = x_train.reshape(x_train.shape[0], image_height*image_width)\n",
        "      4 x_test_r = x_test.reshape(x_test.shape[0], image_height*image_width)\n",
        "      5 cont_train = x_train_r.shape[0]\n",
        "\n",
        "NameError: name 'image_height' is not defined"
      ],
      "metadata": {
        "id": "X9HZWI_OTiww"
      },
      "execution_count": null,
      "outputs": []
    },
    {
      "cell_type": "code",
      "source": [
        "import pandas as pd\n",
        "import plotly.graph_objects as go\n",
        "# Create random data with numpy\n",
        "import numpy as np\n",
        "df = pd.DataFrame(history.history)\n",
        "history.history.keys()\n",
        "fig = go.Figure()\n",
        "\n",
        "# Add traces\n",
        "fig.add_trace(go.Scatter(x=df.index, y=df.val_accuracy,\n",
        "                    mode='lines',\n",
        "                    name='val_accuracy'))\n",
        "fig.add_trace(go.Scatter(x=df.index, y=df.accuracy,\n",
        "                    mode='lines',\n",
        "                    name='accuracy'))\n",
        "\n",
        "fig.show()\n",
        "     "
      ],
      "metadata": {
        "id": "kEtgpHg9TqfJ"
      },
      "execution_count": null,
      "outputs": []
    }
  ]
}