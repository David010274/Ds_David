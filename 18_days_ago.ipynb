{
  "nbformat": 4,
  "nbformat_minor": 0,
  "metadata": {
    "colab": {
      "provenance": [],
      "authorship_tag": "ABX9TyPRFLwICENPCvvs6vxV22vB",
      "include_colab_link": true
    },
    "kernelspec": {
      "name": "python3",
      "display_name": "Python 3"
    },
    "language_info": {
      "name": "python"
    }
  },
  "cells": [
    {
      "cell_type": "markdown",
      "metadata": {
        "id": "view-in-github",
        "colab_type": "text"
      },
      "source": [
        "<a href=\"https://colab.research.google.com/github/David010274/Ds_David/blob/main/18_days_ago.ipynb\" target=\"_parent\"><img src=\"https://colab.research.google.com/assets/colab-badge.svg\" alt=\"Open In Colab\"/></a>"
      ]
    },
    {
      "cell_type": "code",
      "execution_count": null,
      "metadata": {
        "id": "fAeimuAjY_qL"
      },
      "outputs": [],
      "source": [
        "import matplotlib.pyplot as plt\n",
        "from sklearn.datasets import fetch_olivetti_faces\n",
        "from sklearn import decomposition \n",
        "\n",
        "dataset = fetch_olivetti_faces(random_state=14)\n",
        "faces = dataset.data\n",
        "print(faces.shape)\n",
        "n_faces, n_hidden_factors = 4, 7\n",
        "def plot_gallery(images, n_col=n_hidden_factors+1, n_row=n_faces,\n",
        "                 cmap=plt.cm.gray):\n",
        "    fig, axs = plt.subplots(n_row,n_col, figsize=(18,7),\n",
        "                            subplot_kw={'xticks':(), 'yticks':()})\n",
        "    for i, image in zip(range(n_faces*(n_hidden_factors+1)), images):\n",
        "        r = int(i/n_col); c = i%n_col\n",
        "        axs[r,c].imshow(image.reshape((64, 64)), cmap=cmap)\n",
        "        if (r == 0 and c!=0):\n",
        "            axs[r,c].set_title('#Factors = ' + str(c*5)) \n",
        "\n",
        "images = []\n",
        "for face in [120,9,300,50]:  # some faces from the 400 dataset samples\n",
        "    images.append(faces[face])  # draw the original image\n",
        "    print(n_hidden_factors)\n",
        "    for compressed in range(5,5+n_hidden_factors*5,5):\n",
        "        estimator = decomposition.NMF(n_components=compressed,\n",
        "                                      init='nndsvda', tol=5e-3)\n",
        "        W = estimator.fit_transform(faces)\n",
        "        # draw the compressed image\n",
        "        images.append(estimator.inverse_transform(W[face]))    \n",
        "plot_gallery(images)\n",
        "\n",
        "plt.show()\n"
      ]
    },
    {
      "cell_type": "markdown",
      "source": [
        "(400, 4096)\n",
        "7\n",
        "7\n",
        "7\n",
        "7\n"
      ],
      "metadata": {
        "id": "TcXUw-uod7rE"
      }
    },
    {
      "cell_type": "code",
      "source": [
        "import numpy as np\n",
        "dataset = fetch_olivetti_faces(random_state=14)\n",
        "print(np.array(dataset['data'])[0])"
      ],
      "metadata": {
        "id": "MMlb2tx5eE8V"
      },
      "execution_count": null,
      "outputs": []
    },
    {
      "cell_type": "markdown",
      "source": [
        "[0.30991736 0.3677686  0.41735536 ... 0.15289256 0.16115703 0.1570248 ]"
      ],
      "metadata": {
        "id": "jWeKGg31eIxO"
      }
    },
    {
      "cell_type": "code",
      "source": [
        "import cv2\n",
        "import numpy as np\n",
        "import imutils\n",
        "from google.colab.patches import cv2_imshow\n",
        "imagen = cv2.imread('/content/drive/MyDrive/Colab Notebooks/Dataset/descarganiña.jpg')\n",
        "     "
      ],
      "metadata": {
        "id": "NNoIRk7KeL3S"
      },
      "execution_count": null,
      "outputs": []
    },
    {
      "cell_type": "code",
      "source": [
        "cv2_imshow(imagen)\n",
        "cv2.waitKey(0)\n",
        "cv2.destroyAllWindows()"
      ],
      "metadata": {
        "id": "Gm1sQ67YeOZA"
      },
      "execution_count": null,
      "outputs": []
    },
    {
      "cell_type": "markdown",
      "source": [
        "imagen"
      ],
      "metadata": {
        "id": "y6GxKRExeRX2"
      }
    },
    {
      "cell_type": "code",
      "source": [
        "rojoBajo1 = np.array([10, 40, 90], np.uint8)\n",
        "rojoAlto1 = np.array([200, 155, 155], np.uint8)\n",
        "     "
      ],
      "metadata": {
        "id": "o_77dJVLeV3H"
      },
      "execution_count": null,
      "outputs": []
    },
    {
      "cell_type": "markdown",
      "source": [
        "resultado imagen\n",
        "[ 86 103  89]"
      ],
      "metadata": {
        "id": "IEeJOPFXeZkZ"
      }
    },
    {
      "cell_type": "code",
      "source": [
        "imagegray = cv2.cvtColor(image, cv2.COLOR_BGR2GRAY)\n",
        "cv2_imshow(imagegray)\n",
        "print(imagegray[0][0])\n",
        "     "
      ],
      "metadata": {
        "id": "b6vn4R71efmt"
      },
      "execution_count": null,
      "outputs": []
    },
    {
      "cell_type": "markdown",
      "source": [
        "imagen\n",
        "97"
      ],
      "metadata": {
        "id": "opQUtuRqeiqZ"
      }
    },
    {
      "cell_type": "code",
      "source": [
        "imagegray = cv2.cvtColor(imagegray,cv2.COLOR_GRAY2BGR)\n",
        "cv2_imshow(imagegray)\n",
        "print(imagegray[0][0])"
      ],
      "metadata": {
        "id": "VX-WO7OoenqE"
      },
      "execution_count": null,
      "outputs": []
    },
    {
      "cell_type": "markdown",
      "source": [
        "imagen\n",
        "[97 97 97]"
      ],
      "metadata": {
        "id": "oRfI5fyIerKI"
      }
    },
    {
      "cell_type": "code",
      "source": [
        "imageHSV = cv2.cvtColor(image, cv2.COLOR_BGR2HSV)\n",
        "cv2_imshow(imageHSV)\n",
        "print(imageHSV[0][0])"
      ],
      "metadata": {
        "id": "wdIG4DDtevLn"
      },
      "execution_count": null,
      "outputs": []
    },
    {
      "cell_type": "markdown",
      "source": [
        "imagen\n",
        "[ 55  42 103]"
      ],
      "metadata": {
        "id": "OhKU2nQieyNz"
      }
    },
    {
      "cell_type": "code",
      "source": [
        "maskRojo1 = cv2.inRange(imageHSV, rojoBajo1, rojoAlto1)\n",
        "#mask = cv2.add(maskRojo1,maskRojo2)\n",
        "mask = cv2.medianBlur(maskRojo1, 7)\n",
        "\n",
        "cv2_imshow(mask)\n",
        "     "
      ],
      "metadata": {
        "id": "sMLdLNZde24a"
      },
      "execution_count": null,
      "outputs": []
    },
    {
      "cell_type": "markdown",
      "source": [
        "imagen"
      ],
      "metadata": {
        "id": "AnGLpI68e6L-"
      }
    },
    {
      "cell_type": "code",
      "source": [
        "redDetected = cv2.bitwise_and(image,image,mask=mask)\n",
        "cv2_imshow(redDetected)\n",
        "     "
      ],
      "metadata": {
        "id": "HmBEsaDpe8pn"
      },
      "execution_count": null,
      "outputs": []
    },
    {
      "cell_type": "markdown",
      "source": [
        "imagen"
      ],
      "metadata": {
        "id": "KwRs-rxXe_Dm"
      }
    },
    {
      "cell_type": "code",
      "source": [
        "invMask = cv2.bitwise_not(mask)\n",
        "bgGray = cv2.bitwise_and(imagegray,imagegray,mask=invMask)\n",
        "cv2_imshow(bgGray)"
      ],
      "metadata": {
        "id": "HMGQJRyxfBSx"
      },
      "execution_count": null,
      "outputs": []
    },
    {
      "cell_type": "markdown",
      "source": [
        "imagen"
      ],
      "metadata": {
        "id": "cLTcX3plfFAb"
      }
    },
    {
      "cell_type": "code",
      "source": [
        "finalImage = cv2.add(bgGray,redDetected)\n",
        "# Visualización\n",
        "cv2_imshow(finalImage)\n",
        "     "
      ],
      "metadata": {
        "id": "SmMnEirGfGfE"
      },
      "execution_count": null,
      "outputs": []
    },
    {
      "cell_type": "markdown",
      "source": [
        "imagen"
      ],
      "metadata": {
        "id": "gFqzC7rafJtj"
      }
    }
  ]
}