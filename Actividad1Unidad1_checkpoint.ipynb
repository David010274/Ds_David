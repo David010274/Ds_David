{
  "cells": [
    {
      "cell_type": "markdown",
      "metadata": {
        "id": "view-in-github",
        "colab_type": "text"
      },
      "source": [
        "<a href=\"https://colab.research.google.com/github/David010274/Ds_David/blob/main/Actividad1Unidad1_checkpoint.ipynb\" target=\"_parent\"><img src=\"https://colab.research.google.com/assets/colab-badge.svg\" alt=\"Open In Colab\"/></a>"
      ]
    },
    {
      "cell_type": "markdown",
      "metadata": {
        "id": "fdBXRKPDDVdz"
      },
      "source": []
    },
    {
      "cell_type": "markdown",
      "metadata": {
        "id": "HIBdVja6DVd5"
      },
      "source": [
        "# Listado de Ejercicios a realizar"
      ]
    },
    {
      "cell_type": "markdown",
      "metadata": {
        "id": "1Dlv-xbcDVd7"
      },
      "source": [
        "## 1. Sin usar el computador, evalúe las siguientes expresiones, y para cada una de ellas indique el resultado y su tipo (si la expresión es válida) o qué error ocurre:\n",
        "\n",
        "### Ejemplo\n",
        "- 2 + 3      # Respuesta: tipo int, valor 5\n",
        "- 4 / 0      # Respuesta: error de división por cero\n",
        "\n",
        "### Ejercicio\n",
        "\n",
        "- 5 + 3 * 4\n",
        "- '5' + '3' * 2\n",
        "- 2 ** 11 == 1000 or 2 ** 9 == 100\n",
        "- int(\"cincuenta\")\n",
        "- 16/16 + 384/24\n",
        "- 600 + 18%\n",
        "- 0 < (4096 % 10) < 6\n",
        "- 'Max' + 'Min'\n",
        "- ABC() * DEF()\n",
        "- float(-int('7') + int('90'))\n",
        "- abs(len('seis') - len('tres'))\n",
        "- bool(1210) or bool(-3465) \n",
        "- float(str(int('8' * 3) / 3)[3])"
      ]
    },
    {
      "cell_type": "code",
      "execution_count": null,
      "metadata": {
        "id": "p13tg0xgDVd_"
      },
      "outputs": [],
      "source": [
        "# Respuesta:\n",
        "5 + 3 * 4 # respuesta; es un int, respuesta 32\n",
        "'5' + '3' * 2 # respuesta; cuando uno coloca comillas lo tomaria como string, solo une los numeros, el resultada quedaria como 533\n",
        "2 ** 11 == 1000 or 2 ** 9 == 100 # respuesta; es una operacion booleanos, y daria false\n",
        "int(\"cincuenta\") # respuesta; daria error ya que mensinamos un entero y por las comillas seria un string\n",
        "16/16 + 384/24 # respuesta;son operadores matematicos y la respuesta daria 17\n",
        "600 + 18% # respuesta; syntasis invalida por el signo del %\n",
        "0 < (4096 % 10) < 6 # respuesta: son booleanos por los signos daria falso\n",
        "'Max' + 'Min'# respuesta; cuando se colocan comillas se unen los valores o palabras quedaria MaxMin\n",
        "ABC() * DEF() # respuesta; no hay una definicion  clara\n",
        "float(-int('7') + int('90')) # respuesta ; es una resta y los toma como enteros daria 83.0 , un flotante\n",
        "abs(len('seis') - len('tres'))# respuesta:los toma como enteros iguales a 4 , daria 0\n",
        "bool(1210) or bool(-3465)# respuesta:tipo booleanos y segun la condicion daria true\n",
        "float(str(int('8' * 3) / 3)[3]) # respuesta;no se podria convertir un strig a flotante\n"
      ]
    },
    {
      "cell_type": "markdown",
      "metadata": {
        "id": "oX_8p4AiDVeE"
      },
      "source": [
        "# 2. Imprima su nombre y fecha\n",
        "- Imprime: Jorge Alvarez - 20-04-2020"
      ]
    },
    {
      "cell_type": "code",
      "execution_count": null,
      "metadata": {
        "id": "ssFLRtTHDVeF",
        "colab": {
          "base_uri": "https://localhost:8080/"
        },
        "outputId": "cbcc6b8f-6541-4d47-cf6c-45f3fa0cf8f0"
      },
      "outputs": [
        {
          "output_type": "stream",
          "name": "stdout",
          "text": [
            "David Florez 24/09/2022\n"
          ]
        }
      ],
      "source": [
        "# Respuesta:\n",
        "nombre= 'David Florez'\n",
        "fecha= '24/09/2022'\n",
        "print(nombre , fecha)\n"
      ]
    },
    {
      "cell_type": "markdown",
      "metadata": {
        "id": "lR08E7zpDVeH"
      },
      "source": [
        "# 3. Solicite un nombre y que el programa salude\n",
        "### Ejemplo:\n",
        "- ingreso: 'Andres'\n",
        "- imprime: 'Hola Andres'"
      ]
    },
    {
      "cell_type": "code",
      "execution_count": null,
      "metadata": {
        "id": "K5BhH16zDVeK",
        "colab": {
          "base_uri": "https://localhost:8080/"
        },
        "outputId": "bd94ab1e-4519-4dd4-b097-59007a22c589"
      },
      "outputs": [
        {
          "output_type": "stream",
          "name": "stdout",
          "text": [
            "ingrese su nombre: david\n",
            "Hola david\n"
          ]
        }
      ],
      "source": [
        "# Respuesta:\n",
        "nombre= input (\"ingrese su nombre: \")\n",
        "print (\"Hola\", nombre)\n"
      ]
    },
    {
      "cell_type": "markdown",
      "metadata": {
        "id": "1gW8IFBtDVeM"
      },
      "source": [
        "# 4. Solicite el radio (un numero) de un círculo e imprima como salida su diámetro, perímetro y su área\n",
        "### Ejemplo\n",
        "- ingreso: 3 \n",
        "- imprime - Diametro: 6\n",
        "- imprime - Perimetro: 18.84\n",
        "- imprime - Area: 28.27"
      ]
    },
    {
      "cell_type": "code",
      "execution_count": null,
      "metadata": {
        "id": "FgiuL2zlDVeO",
        "colab": {
          "base_uri": "https://localhost:8080/"
        },
        "outputId": "3830b77b-e011-4d3c-8a0a-407f0587cda6"
      },
      "outputs": [
        {
          "output_type": "stream",
          "name": "stdout",
          "text": [
            "escribe el radio del circulo: 3\n",
            "el area del circulo es = 28.2744\n",
            "perimetro =  18.8496\n",
            "Diametro = 6.0\n"
          ]
        }
      ],
      "source": [
        "# Respuesta:\n",
        "pi= 3.1416\n",
        "r= float(input(\"escribe el radio del circulo: \"))\n",
        "area= pi * r ** 2\n",
        "per= 2* r *pi\n",
        "dia= 2 * r\n",
        "print(\"el area del circulo es =\" , area)\n",
        "print(\"perimetro = \", per)\n",
        "print(\"Diametro =\", dia)\n"
      ]
    },
    {
      "cell_type": "markdown",
      "metadata": {
        "id": "uEySUG4cDVeQ"
      },
      "source": [
        "# 5. Solicite 6 notas y calcule el promedio de ellas\n",
        "### Ejemplo\n",
        "- ingreso: 1 2 3 4 5 6\n",
        "- imprime: 3.5"
      ]
    },
    {
      "cell_type": "code",
      "execution_count": null,
      "metadata": {
        "id": "VxszWMDSDVeS",
        "colab": {
          "base_uri": "https://localhost:8080/"
        },
        "outputId": "03b72baf-2d0e-4410-fe0a-f9ad7e2ce4fc"
      },
      "outputs": [
        {
          "output_type": "stream",
          "name": "stdout",
          "text": [
            "Escribe el radio del circulo : 3\n",
            "El area del circulo es  = 28.2744\n",
            "El perimetro del circulo es = 18.8496\n",
            "El diametro del circulo es = 6.0\n"
          ]
        }
      ],
      "source": [
        "# Respuesta:Este desarrollo es para sacar el area de un circulo con un radio =3 . formula ;Area=pi*r**\n",
        "pi= 3.1416\n",
        "r= float(input('Escribe el radio del circulo : ' ))\n",
        "area= pi * r** 2\n",
        "per= 2 *r  * pi\n",
        "diam= 2 * r\n",
        "print ('El area del circulo es  =' , area)\n",
        "print ('El perimetro del circulo es =', per)\n",
        "print ('El diametro del circulo es =' , diam)\n"
      ]
    },
    {
      "cell_type": "markdown",
      "metadata": {
        "id": "UMMCtHABDVeT"
      },
      "source": [
        "# 6. Solicite un valor e imprima que tipo de dato es\n",
        "### Ejemplo\n",
        "- ingreso: 'A'\n",
        "- imprime: str\n",
        "- ingreso: 1\n",
        "- imprime: int"
      ]
    },
    {
      "cell_type": "code",
      "execution_count": null,
      "metadata": {
        "id": "wkPdAQ22DVeU",
        "colab": {
          "base_uri": "https://localhost:8080/"
        },
        "outputId": "99c0ad70-a3be-4954-9445-164fed464539"
      },
      "outputs": [
        {
          "output_type": "stream",
          "name": "stdout",
          "text": [
            "valor: python - Tipo de dato: <class 'str'>\n",
            "valor: 3.1416 - Tipo de dato: <class 'float'>\n",
            "valor: [1, 2, 3] - Tipo de dato: <class 'list'>\n",
            "valor: 0 - Tipo de dato: <class 'int'>\n",
            "valor: {'a': 1} - Tipo de dato: <class 'dict'>\n",
            "valor: (0, 1) - Tipo de dato: <class 'tuple'>\n",
            "valor: {0, 1, 2} - Tipo de dato: <class 'set'>\n",
            "valor: (5+3j) - Tipo de dato: <class 'complex'>\n",
            "valor: True - Tipo de dato: <class 'bool'>\n",
            "valor: False - Tipo de dato: <class 'bool'>\n"
          ]
        }
      ],
      "source": [
        "# Respuesta:\n",
        "lista_mixta = ['python',3.1416,[1,2,3],0,{'a':1},(0,1),set([0,1,2]), 5+3j,True, False]\n",
        "for i in range(len(lista_mixta)):\n",
        "  print( 'valor: {} - Tipo de dato: {}'.format(lista_mixta[i],type(lista_mixta[i])))\n",
        "\n"
      ]
    },
    {
      "cell_type": "markdown",
      "metadata": {
        "id": "XLUr5OllDVeV"
      },
      "source": [
        "# 7. Escriba en código la siguiente ecuación\n",
        "$$ \\left(\\frac{5+3}{3-2}\\right)^2$$"
      ]
    },
    {
      "cell_type": "code",
      "execution_count": 9,
      "metadata": {
        "id": "SOku-flwDVeW",
        "colab": {
          "base_uri": "https://localhost:8080/"
        },
        "outputId": "fe64837f-1a14-428c-f0e8-c2478d782537"
      },
      "outputs": [
        {
          "output_type": "stream",
          "name": "stdout",
          "text": [
            "64.0\n"
          ]
        }
      ],
      "source": [
        "# Respuesta\n",
        "\n",
        "resultado = ((5+3)/(3-2))**2\n",
        "print (resultado)\n"
      ]
    },
    {
      "cell_type": "markdown",
      "metadata": {
        "id": "GmfjJNjJDVeX"
      },
      "source": [
        "# 8. Solicite número de horas trabajadas y coste por horas e imprima el valor\n",
        "### Ejemplo:\n",
        "- Ingreso: 4 (horas)\n",
        "- ingreso: 80.000 (precio x hora)\n",
        "- imprime: 320.000"
      ]
    },
    {
      "cell_type": "code",
      "execution_count": null,
      "metadata": {
        "id": "D10rERxzDVeY",
        "colab": {
          "base_uri": "https://localhost:8080/"
        },
        "outputId": "07fbc6ae-ee7e-4767-a018-1100074d19dd"
      },
      "outputs": [
        {
          "output_type": "stream",
          "name": "stdout",
          "text": [
            "Ingresa horas trabajadas :4\n",
            "ingresa el valor del costo por hora :80000\n",
            "el pago que le corresponde es :  320000 pesos\n"
          ]
        }
      ],
      "source": [
        "# Respuesta\n",
        "horas= int(input('Ingresa horas trabajadas :'))\n",
        "costo= int(input('ingresa el valor del costo por hora :'))\n",
        "pago= horas * costo\n",
        "print( 'el pago que le corresponde es : ' ,pago, 'pesos')\n"
      ]
    },
    {
      "cell_type": "markdown",
      "metadata": {
        "id": "OwO3Et0NDVeZ"
      },
      "source": [
        "# 9. Solicite la temperatura en grados Celsius e imprima en grados Kelvin y Fahrenheit \n",
        "### Ejemplo:\n",
        "- ingreso: 38 (°C)\n",
        "- imprime: 311.15 °K\n",
        "- imprime: 100.4 °F"
      ]
    },
    {
      "cell_type": "code",
      "execution_count": null,
      "metadata": {
        "id": "WHuOW3WmDVea",
        "colab": {
          "base_uri": "https://localhost:8080/"
        },
        "outputId": "500cc432-21d5-4328-a39e-f2b52e6d0cfb"
      },
      "outputs": [
        {
          "output_type": "stream",
          "name": "stdout",
          "text": [
            "Ingrese la cantidad de grados Celsius a convertir: 38\n",
            "38  Grados celsius equivale a  100.4 Grados fahrenheit.\n",
            "38  Grados celsius equivale a  311.15 Grados Kelvin.\n"
          ]
        }
      ],
      "source": [
        "# Respuesta:\n",
        "# F = (9/5) C + 32\n",
        "C = int (input('Ingrese la cantidad de grados Celsius a convertir: '))\n",
        "F = 9/5 * C + 32\n",
        "K = C + 273.15\n",
        "print( C, ' Grados celsius equivale a ',F, 'Grados fahrenheit.')\n",
        "print( C, ' Grados celsius equivale a ',K, 'Grados Kelvin.')\n",
        "\n"
      ]
    },
    {
      "cell_type": "markdown",
      "metadata": {
        "id": "DGDzMzpPDVeb"
      },
      "source": [
        "# 10. Solicite 2 numeros e imprima si el segundo es mayor  \n",
        "### Ejemplo:\n",
        "- ingreso: 2\n",
        "- ingreso: 3\n",
        "- impmrime: True"
      ]
    },
    {
      "cell_type": "code",
      "execution_count": null,
      "metadata": {
        "id": "say9TLz_DVec",
        "colab": {
          "base_uri": "https://localhost:8080/"
        },
        "outputId": "5077ff51-68fd-43ef-a0a7-9fd0025cf0cc"
      },
      "outputs": [
        {
          "output_type": "stream",
          "name": "stdout",
          "text": [
            "Ingresa dos numeros: \n",
            "Numero 1: 2\n",
            "Numero 2: 3\n",
            "el Numero 3 es mayor que el Numero 2\n",
            "3>2 True\n"
          ]
        }
      ],
      "source": [
        "# Respuesta; imprimimos y le preguntamos que ingrese dos numeros,lo guardamos en una variable n1 el primer numero, le colocamos que se ha de tipo entero\n",
        "# y luego guardamos el n2, validamos si el numero n2 es mayor que imprima verdadero.\n",
        "\n",
        "print('Ingresa dos numeros: ')\n",
        "n1= int(input('Numero 1: '))\n",
        "n2= int(input('Numero 2: '))\n",
        "if n1==n2:\n",
        "  print('los 2 numeros son iguales')\n",
        "elif n1>n2 :\n",
        "  print(f'Numero {n2} es mayor que el Numero {n1}')\n",
        "else:\n",
        "  print(f'el Numero {n2} es mayor que el Numero {n1}') \n",
        "  print('3>2',3>2) \n"
      ]
    },
    {
      "cell_type": "markdown",
      "metadata": {
        "id": "T_AMMtImDVed"
      },
      "source": [
        "# 11. Solicite 2 numeros e imprima si el segundo es menor  \n",
        "### Ejemplo:\n",
        "- ingreso: 2\n",
        "- ingreso: 3\n",
        "- impmrime: False"
      ]
    },
    {
      "cell_type": "code",
      "execution_count": null,
      "metadata": {
        "id": "8c-CaTjWDVee",
        "colab": {
          "base_uri": "https://localhost:8080/"
        },
        "outputId": "002792f7-cf61-4e96-f9d9-703a09b429f5"
      },
      "outputs": [
        {
          "output_type": "stream",
          "name": "stdout",
          "text": [
            "Ingresa dos numeros: \n",
            "Numero 1: 2\n",
            "Numero 2: 3\n",
            "el Numero 2 es mayor que el Numero 3\n",
            "2>3 False\n"
          ]
        }
      ],
      "source": [
        "# Respuesta\n",
        "print('Ingresa dos numeros: ')\n",
        "n1= int(input('Numero 1: '))\n",
        "n2= int(input('Numero 2: '))\n",
        "if n1==n2:\n",
        "  print('los 2 numeros son iguales')\n",
        "elif n1>n2 :\n",
        "  print(f'Numero {n1} es mayor que el Numero {n2}')\n",
        "else:\n",
        "  print(f'el Numero {n1} es mayor que el Numero {n2}') \n",
        "  print('2>3',2>3) \n"
      ]
    },
    {
      "cell_type": "markdown",
      "metadata": {
        "id": "qErJjmLtDVee"
      },
      "source": [
        "# 12. Solicite una distancia (metros) y la velocidad (metros/segundos) e imprima el tiempo que se demora el recorrido\n",
        "### Ejemplo:\n",
        "- ingreso: 150 (metros)\n",
        "- ingreso: 15 (metros/segundo)\n",
        "- Imprime: 10 segundos"
      ]
    },
    {
      "cell_type": "code",
      "execution_count": null,
      "metadata": {
        "id": "-idXE3FxDVef",
        "colab": {
          "base_uri": "https://localhost:8080/"
        },
        "outputId": "baf12934-2131-4f3c-fc46-a7b49b79d892"
      },
      "outputs": [
        {
          "output_type": "stream",
          "name": "stdout",
          "text": [
            "ingrese la distancia recorrida en metros:150\n",
            "ingrese la cantidad recorrida en segundos:15\n",
            " la velocidad es de  10.0 segundos\n"
          ]
        }
      ],
      "source": [
        "# Respuesta\n",
        "dis=int(input('ingrese la distancia recorrida en metros:'))\n",
        "vel=int(input('ingrese la cantidad recorrida en segundos:'))\n",
        "# tiempo que se demora en segundos\n",
        "tiempo=dis/vel\n",
        "# la velocidad en metros /segundos\n",
        "print(' la velocidad es de ',tiempo,'segundos')\n",
        "\n",
        "\n"
      ]
    },
    {
      "cell_type": "markdown",
      "metadata": {
        "id": "mwb18VB1DVeg"
      },
      "source": [
        "# 13. Solicite al usuario tres valores y escriba en código la siguiente ecuación\n",
        "$$ \\left(\\frac{a+b}{c}\\right) ^2 + \\left(\\frac{a-b}{c}\\right) ^ 2 $$"
      ]
    },
    {
      "cell_type": "code",
      "execution_count": 13,
      "metadata": {
        "id": "-0ZVb67NDVeg",
        "colab": {
          "base_uri": "https://localhost:8080/"
        },
        "outputId": "7df72b27-f0b4-4e9c-f3de-4b61e23d2d31"
      },
      "outputs": [
        {
          "output_type": "stream",
          "name": "stdout",
          "text": [
            "ingrese el valor de a:6\n",
            "ingrese el valor de b:4\n",
            "ingrese el valor de c:2\n",
            "el resultado de la ecuacion es:\n",
            "26.0\n"
          ]
        }
      ],
      "source": [
        "# Respuesta: se le solicita al usuario el 6,4 y el 2\n",
        "\n",
        "a=int(input('ingrese el valor de a:'))\n",
        "b=int(input('ingrese el valor de b:'))\n",
        "c=int(input('ingrese el valor de c:'))\n",
        "ecuacion =(((a+b)/(c))**2) + (((a-b)/(c))**2)\n",
        "print('el resultado de la ecuacion es:')\n",
        "print (ecuacion)\n"
      ]
    },
    {
      "cell_type": "markdown",
      "metadata": {
        "id": "rrDxSxJ4DVeh"
      },
      "source": [
        "# 14. Investigue como se saca la raíz cuadrada de un número en Python y escriba la solución en el cuadro de abajo"
      ]
    },
    {
      "cell_type": "code",
      "execution_count": null,
      "metadata": {
        "id": "uWeNcfRVDVei"
      },
      "outputs": [],
      "source": [
        "# Respuesta: escogemos el numero 9\n",
        "import math\n"
      ]
    },
    {
      "cell_type": "code",
      "source": [
        "math.sqrt(9)"
      ],
      "metadata": {
        "colab": {
          "base_uri": "https://localhost:8080/"
        },
        "id": "1b0-RY310VY3",
        "outputId": "99ca6590-215c-4d49-fac1-fcaa3f17853b"
      },
      "execution_count": 16,
      "outputs": [
        {
          "output_type": "execute_result",
          "data": {
            "text/plain": [
              "3.0"
            ]
          },
          "metadata": {},
          "execution_count": 16
        }
      ]
    },
    {
      "cell_type": "markdown",
      "metadata": {
        "id": "lf69cWRIDVei"
      },
      "source": [
        "# 15.  Con lo anterior solicite 2 numeros (Cateto a y Cateto b) e imprima la hipotenusa.\n",
        "### Ejemplo:\n",
        "- ingreso: 3 (Cateto a)\n",
        "- ingreso: 4 (Cateto b)\n",
        "- imprime: Hipotenusa = 5"
      ]
    },
    {
      "cell_type": "code",
      "execution_count": null,
      "metadata": {
        "id": "spdkItcMDVej"
      },
      "outputs": [],
      "source": [
        "# Respuesta.la formula es hipotenusa = a la raiz cuadrada del cateto a **2 + el cateto b **2\n",
        "\n",
        "import math"
      ]
    },
    {
      "cell_type": "code",
      "execution_count": null,
      "metadata": {
        "id": "E32xXlUJDVek",
        "colab": {
          "base_uri": "https://localhost:8080/"
        },
        "outputId": "a2ed2d40-3c9e-4ef4-b176-7bd51961fd8a"
      },
      "outputs": [
        {
          "output_type": "stream",
          "name": "stdout",
          "text": [
            "ingrese el cateto a: 3\n",
            "ingrese el cateto b: 4\n",
            "La hipotenusa es : 5.0\n"
          ]
        }
      ],
      "source": [
        "catetoa = float(input('ingrese el cateto a: '))\n",
        "catetob = float(input('ingrese el cateto b: '))\n",
        "hipotenusa = math.sqrt(catetoa**2 + catetob**2)\n",
        "print('La hipotenusa es :' , hipotenusa)"
      ]
    }
  ],
  "metadata": {
    "kernelspec": {
      "display_name": "Python 3.10.6 64-bit (microsoft store)",
      "language": "python",
      "name": "python3"
    },
    "language_info": {
      "codemirror_mode": {
        "name": "ipython",
        "version": 3
      },
      "file_extension": ".py",
      "mimetype": "text/x-python",
      "name": "python",
      "nbconvert_exporter": "python",
      "pygments_lexer": "ipython3",
      "version": "3.10.6"
    },
    "vscode": {
      "interpreter": {
        "hash": "3b7e9cb8e453d6cda0fe8c8dd13f891a1f09162f0e7c66ffeae7751a7aecf00d"
      }
    },
    "colab": {
      "provenance": [],
      "collapsed_sections": [],
      "include_colab_link": true
    }
  },
  "nbformat": 4,
  "nbformat_minor": 0
}