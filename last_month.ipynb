{
  "nbformat": 4,
  "nbformat_minor": 0,
  "metadata": {
    "colab": {
      "provenance": [],
      "authorship_tag": "ABX9TyNLO1ar05fOyOAgeohnblHZ",
      "include_colab_link": true
    },
    "kernelspec": {
      "name": "python3",
      "display_name": "Python 3"
    },
    "language_info": {
      "name": "python"
    }
  },
  "cells": [
    {
      "cell_type": "markdown",
      "metadata": {
        "id": "view-in-github",
        "colab_type": "text"
      },
      "source": [
        "<a href=\"https://colab.research.google.com/github/David010274/Ds_David/blob/main/last_month.ipynb\" target=\"_parent\"><img src=\"https://colab.research.google.com/assets/colab-badge.svg\" alt=\"Open In Colab\"/></a>"
      ]
    },
    {
      "cell_type": "code",
      "execution_count": null,
      "metadata": {
        "id": "8emCDEfFflfV"
      },
      "outputs": [],
      "source": [
        "import pandas as pd\n",
        "import numpy as np\n",
        "import sklearn as sk\n",
        "import matplotlib\n",
        "import seaborn as sns\n",
        "from sklearn.datasets import make_blobs\n",
        "from sklearn.cluster import KMeans\n",
        "import matplotlib.pyplot as plt "
      ]
    },
    {
      "cell_type": "code",
      "source": [
        "X,y = make_blobs(n_samples= 500, n_features=3, centers= 2, cluster_std = 1, random_state=10)\n",
        "     "
      ],
      "metadata": {
        "id": "IF6CNjaBfwC5"
      },
      "execution_count": null,
      "outputs": []
    },
    {
      "cell_type": "code",
      "source": [
        "\n",
        "X"
      ],
      "metadata": {
        "id": "L9pm9QeLfzM_"
      },
      "execution_count": null,
      "outputs": []
    },
    {
      "cell_type": "code",
      "source": [],
      "metadata": {
        "id": "ytcgyVxqfzIG"
      },
      "execution_count": null,
      "outputs": []
    },
    {
      "cell_type": "markdown",
      "source": [
        "array([[ 5.75247006, -1.09448336, -5.68667603],\n",
        "       [ 5.8754346 , -9.87096302,  1.8102064 ],\n",
        "       [ 5.31414039, -9.94714146,  2.44078244],\n",
        "       ...,\n",
        "       [ 6.0402063 , -0.05112467, -6.03548705],\n",
        "       [ 4.68136865,  1.21179244, -7.32461122],\n",
        "       [ 4.45621504, -8.36777945,  2.85561208]])"
      ],
      "metadata": {
        "id": "cNd7S-djf3Jk"
      }
    },
    {
      "cell_type": "code",
      "source": [
        "y"
      ],
      "metadata": {
        "id": "qG-cKaXTf6up"
      },
      "execution_count": null,
      "outputs": []
    },
    {
      "cell_type": "markdown",
      "source": [
        "array([1, 0, 0, 1, 0, 1, 1, 1, 0, 0, 1, 1, 1, 0, 1, 1, 1, 0, 0, 0, 0, 0,\n",
        "       1, 0, 0, 0, 1, 1, 0, 0, 1, 1, 1, 0, 1, 0, 1, 0, 0, 1, 1, 0, 1, 0,\n",
        "       0, 1, 1, 0, 1, 1, 0, 1, 1, 1, 1, 0, 1, 1, 0, 0, 1, 1, 0, 1, 0, 0,\n",
        "       0, 0, 1, 1, 0, 0, 0, 1, 0, 1, 0, 0, 1, 1, 1, 0, 0, 0, 1, 0, 0, 0,\n",
        "       0, 0, 0, 1, 1, 1, 1, 1, 0, 1, 0, 0, 0, 1, 0, 0, 1, 0, 0, 1, 0, 1,\n",
        "       0, 1, 1, 1, 1, 1, 1, 0, 0, 0, 1, 1, 1, 1, 1, 1, 0, 1, 0, 1, 1, 0,\n",
        "       1, 0, 1, 1, 1, 1, 1, 0, 0, 1, 0, 0, 1, 0, 1, 1, 1, 1, 0, 0, 0, 0,\n",
        "       1, 1, 0, 0, 1, 0, 0, 0, 0, 1, 1, 1, 1, 0, 0, 0, 0, 0, 0, 0, 0, 1,\n",
        "       0, 1, 1, 0, 0, 0, 0, 1, 0, 0, 0, 1, 1, 0, 0, 1, 1, 0, 1, 0, 1, 0,\n",
        "       1, 0, 1, 1, 0, 0, 0, 1, 1, 1, 1, 1, 0, 0, 0, 0, 0, 1, 1, 1, 0, 1,\n",
        "       1, 0, 1, 0, 1, 1, 0, 0, 1, 1, 1, 1, 1, 1, 0, 0, 0, 1, 0, 0, 1, 1,\n",
        "       1, 1, 0, 0, 0, 1, 0, 0, 0, 1, 1, 1, 1, 1, 1, 0, 0, 1, 1, 1, 0, 0,\n",
        "       0, 1, 0, 1, 0, 1, 1, 0, 1, 0, 1, 0, 0, 0, 0, 1, 0, 0, 0, 0, 0, 0,\n",
        "       0, 0, 0, 1, 1, 0, 0, 1, 0, 0, 0, 0, 1, 1, 1, 0, 1, 0, 1, 1, 1, 0,\n",
        "       1, 0, 1, 0, 1, 0, 1, 0, 1, 1, 1, 1, 1, 0, 0, 1, 1, 0, 1, 1, 0, 0,\n",
        "       0, 1, 0, 0, 1, 0, 1, 1, 1, 1, 1, 1, 1, 0, 0, 0, 0, 0, 0, 0, 0, 1,\n",
        "       1, 0, 1, 1, 0, 1, 0, 0, 1, 0, 1, 0, 0, 0, 1, 1, 0, 1, 1, 1, 0, 1,\n",
        "   0, 0, 1, 1, 0, 1, 0, 0, 0, 0, 1, 0, 0, 1, 1, 0, 1, 0, 0, 0, 1, 1,\n",
        "       1, 1, 1, 1, 0, 0, 0, 0, 0, 0, 1, 0, 1, 1, 1, 0, 1, 0, 0, 1, 1, 0,\n",
        "       0, 0, 0, 1, 0, 0, 1, 0, 0, 1, 0, 1, 1, 1, 1, 0, 1, 0, 1, 0, 0, 0,\n",
        "       0, 0, 0, 1, 1, 1, 1, 1, 0, 1, 1, 1, 1, 0, 0, 1, 0, 1, 1, 1, 0, 1,\n",
        "       0, 0, 1, 1, 1, 0, 1, 0, 1, 0, 0, 0, 1, 1, 0, 0, 1, 0, 0, 1, 1, 1,\n",
        "       0, 0, 1, 0, 0, 0, 1, 1, 1, 1, 1, 1, 1, 1, 1, 0])     "
      ],
      "metadata": {
        "id": "XQ2xG9zmf8BX"
      }
    },
    {
      "cell_type": "code",
      "source": [
        "fig,axs = plt.subplots(11,3, figsize = (12,40))#[1,2,3,4]\n",
        "\n",
        "axs[0][0].scatter(X[:,0],X[:,1],c = y)\n",
        "axs[0][1].scatter(X[:,1],X[:,2],c = y)\n",
        "axs[0][2].scatter(X[:,0],X[:,2],c = y)\n",
        "for i in range(1,11):\n",
        "  kmeans_cluster = KMeans(n_clusters = 2, max_iter= i,\n",
        "                          init='random')\n",
        "  clusters = kmeans_cluster.fit_predict(X)\n",
        "  center = kmeans_cluster.cluster_centers_\n",
        "  clusters\n",
        "\n",
        "  axs[i][0].scatter(X[:,0],X[:,1],c = clusters)\n",
        "  axs[i][0].scatter(center[:,0],center[:,1])\n",
        "  axs[i][1].scatter(X[:,1],X[:,2],c = clusters)\n",
        "  axs[i][1].scatter(center[:,1],center[:,2])\n",
        "  axs[i][2].scatter(X[:,0],X[:,2],c = clusters)\n",
        "  axs[i][2].scatter(center[:,0],center[:,2])"
      ],
      "metadata": {
        "id": "YDFW4PIqgGlM"
      },
      "execution_count": null,
      "outputs": []
    },
    {
      "cell_type": "markdown",
      "source": [
        "graficos"
      ],
      "metadata": {
        "id": "aQvvOT6AgKOb"
      }
    },
    {
      "cell_type": "code",
      "source": [
        "X,y = make_blobs(n_samples= 500, n_features=10, centers= 4, cluster_std = 3, random_state=10)\n",
        "fig = plt.figure()\n",
        "ax = fig.add_subplot(projection='3d')\n",
        "ax.scatter(X[:,0], X[:,1], X[:,2], c=y)\n",
        "import plotly.express as px\n",
        "df = px.data.iris()\n",
        "fig = px.scatter_3d( x=X[:,0], y=X[:,1], z=X[:,2],\n",
        "              color=y, size_max=18)\n",
        "fig = px.scatter_3d( x=center[:,0], y=center[:,1], z=center[:,2],\n",
        "               size_max=18)\n",
        "fig.show()"
      ],
      "metadata": {
        "id": "D3yCwqXRgRvG"
      },
      "execution_count": null,
      "outputs": []
    },
    {
      "cell_type": "markdown",
      "source": [
        "grafico tridimensional"
      ],
      "metadata": {
        "id": "55Zyh6JXgVv_"
      }
    }
  ]
}