{
  "nbformat": 4,
  "nbformat_minor": 0,
  "metadata": {
    "colab": {
      "provenance": [],
      "collapsed_sections": [],
      "authorship_tag": "ABX9TyNrm+hDX5fEy7m+3t/6V7yq",
      "include_colab_link": true
    },
    "kernelspec": {
      "name": "python3",
      "display_name": "Python 3"
    },
    "language_info": {
      "name": "python"
    }
  },
  "cells": [
    {
      "cell_type": "markdown",
      "metadata": {
        "id": "view-in-github",
        "colab_type": "text"
      },
      "source": [
        "<a href=\"https://colab.research.google.com/github/David010274/Ds_David/blob/main/cuartasep21.ipynb\" target=\"_parent\"><img src=\"https://colab.research.google.com/assets/colab-badge.svg\" alt=\"Open In Colab\"/></a>"
      ]
    },
    {
      "cell_type": "code",
      "execution_count": null,
      "metadata": {
        "id": "Rcdrh_j71iyC"
      },
      "outputs": [],
      "source": [
        "import numpy as np\n",
        "import pandas as pd"
      ]
    },
    {
      "cell_type": "markdown",
      "source": [],
      "metadata": {
        "id": "IkfLxQT8UmAj"
      }
    },
    {
      "cell_type": "code",
      "source": [
        "print('**versiones actuales/ Requeridas**')\n",
        "print ('numpy: version actual:', np.__version__)\n",
        "print('pandas : version actual:', pd.__version__)\n",
        "\n"
      ],
      "metadata": {
        "colab": {
          "base_uri": "https://localhost:8080/"
        },
        "id": "G4HqbItnS1PP",
        "outputId": "adffead4-14c6-493c-953f-1746f1bc9c2f"
      },
      "execution_count": null,
      "outputs": [
        {
          "output_type": "stream",
          "name": "stdout",
          "text": [
            "**versiones actuales/ Requeridas**\n",
            "numpy: version actual: 1.21.6\n",
            "pandas : version actual: 1.3.5\n"
          ]
        }
      ]
    },
    {
      "cell_type": "code",
      "source": [
        "\n",
        "# usamos el constructor pd.series\n",
        "items = pd.Series(data= np.array([2,3,8,6,7]), name = 'precios',index= ['veg1','cer1','frut1','frut2','frut3'])\n",
        "print(items)"
      ],
      "metadata": {
        "colab": {
          "base_uri": "https://localhost:8080/"
        },
        "id": "v6lYxjWHVNL-",
        "outputId": "260e461d-3226-479c-9506-e6a53dc368d6"
      },
      "execution_count": null,
      "outputs": [
        {
          "output_type": "stream",
          "name": "stdout",
          "text": [
            "veg1     2\n",
            "cer1     3\n",
            "frut1    8\n",
            "frut2    6\n",
            "frut3    7\n",
            "Name: precios, dtype: int64\n"
          ]
        }
      ]
    },
    {
      "cell_type": "code",
      "source": [
        "print('obtener los indices', items.index)\n",
        "print('obtener los valores', items.values)\n",
        "print('obtener los tipos der datos', items.dtype)"
      ],
      "metadata": {
        "colab": {
          "base_uri": "https://localhost:8080/"
        },
        "id": "lZpGR7rvtO7d",
        "outputId": "ca8a93ab-8942-4424-87cb-89156e3522e8"
      },
      "execution_count": null,
      "outputs": [
        {
          "output_type": "stream",
          "name": "stdout",
          "text": [
            "obtener los indices Index(['veg1', 'cer1', 'frut1', 'frut2', 'frut3'], dtype='object')\n",
            "obtener los valores [2 3 8 6 7]\n",
            "obtener los tipos der datos int64\n"
          ]
        }
      ]
    },
    {
      "cell_type": "code",
      "source": [
        "df= pd.read_csv (filepath_or_buffer='https://storage.googleapis.com/datasets-academy/track%20Data%20Science/01_intro_python/PWT91.csv')\n",
        "\n"
      ],
      "metadata": {
        "id": "dwkiB2U4vHfD"
      },
      "execution_count": null,
      "outputs": []
    }
  ]
}